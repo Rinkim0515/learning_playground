{
 "cells": [
  {
   "cell_type": "markdown",
   "metadata": {
    "id": "8eIjrcACDy7V"
   },
   "source": [
    "# 2025학년도 방송통신대학교 파이썬 프라임 칼리지 중간고사 대체과제물\n",
    "\n",
    "각 문항의 물음에 답하십시오."
   ]
  },
  {
   "cell_type": "markdown",
   "metadata": {
    "id": "wPaQ-cJwDy7Y"
   },
   "source": [
    "### 문제 1. 원의 넓이와 둘레 계산하기\n",
    "\n",
    "사용자로부터 원의 반지름을 입력받아 원의 넓이와 둘레를 계산하여 출력하는 프로그램을 작성하시오.\n",
    "\n",
    "- 원의 넓이 = π × r²\n",
    "\n",
    "- 원의 둘레 = 2 × π × r\n",
    "\n",
    "- π 값으로 3.141592를 사용하시오.\n",
    "\n",
    "(참고: 챕터 3 - 변수와 연산자)\n",
    "\n",
    "**[답안 1]** 밑의 code block을 수정하고, 실행하십시오."
   ]
  },
  {
   "cell_type": "code",
   "execution_count": 1,
   "metadata": {
    "id": "ng1m-BIEDy7Z"
   },
   "outputs": [
    {
     "name": "stdin",
     "output_type": "stream",
     "text": [
      "원의 반지름을 입력하세요:  3\n"
     ]
    },
    {
     "name": "stdout",
     "output_type": "stream",
     "text": [
      "원의 넓이: 28.274328\n",
      "원의 둘레: 18.849552000000003\n"
     ]
    }
   ],
   "source": [
    "# 반지름 입력 받기\n",
    "radius = float(input(\"원의 반지름을 입력하세요: \"))\n",
    "\n",
    "# 원주율 π 설정\n",
    "pi = 3.141592\n",
    "\n",
    "# 넓이와 둘레 계산\n",
    "area = (radius ** 2) * pi\n",
    "perimeter = 2 * pi * radius\n",
    "\n",
    "# 결과 출력\n",
    "print(\"원의 넓이:\", area)\n",
    "print(\"원의 둘레:\", perimeter)"
   ]
  },
  {
   "cell_type": "markdown",
   "metadata": {
    "id": "bd_8rcsCDy7a"
   },
   "source": [
    "### 문제 2. 문자열 서식화 및 처리\n",
    "\n",
    "사용자로부터 이름, 학과, 학번을 입력받아 아래와 같은 형식으로 출력하는 프로그램을 작성하시오:\n",
    "\n",
    "```\n",
    "====== 학생 정보 ======\n",
    "이름: [이름] (10자리, 왼쪽 정렬)\n",
    "학과: [학과] (20자리, 왼쪽 정렬)\n",
    "학번: [학번] (10자리, 오른쪽 정렬)\n",
    "======================\n",
    "```\n",
    "\n",
    "(참고: 챕터 4 - 문자열과 불리언)\n",
    "\n",
    "**[답안 2]** 밑의 code block을 수정하고, 실행하십시오."
   ]
  },
  {
   "cell_type": "code",
   "execution_count": 18,
   "metadata": {
    "id": "wqPYBejYDy7a"
   },
   "outputs": [
    {
     "name": "stdin",
     "output_type": "stream",
     "text": [
      "이름을 입력하세요:  김김\n",
      "학과를 입력하세요:  김김\n",
      "학번을 입력하세요:  123912\n"
     ]
    },
    {
     "name": "stdout",
     "output_type": "stream",
     "text": [
      "====== 학생 정보 ======\n",
      "이름: 김김        \n",
      "학과: 김김                  \n",
      "학번:     123912\n",
      "======================\n"
     ]
    }
   ],
   "source": [
    "# 사용자로부터 정보 입력 받기\n",
    "name = input(\"이름을 입력하세요: \")\n",
    "department = input(\"학과를 입력하세요: \")\n",
    "student_id = input(\"학번을 입력하세요: \")\n",
    "\n",
    "# 서식화된 문자열 출력\n",
    "print(\"====== 학생 정보 ======\")\n",
    "print(\"이름:\", format(name,\"<10s\"))\n",
    "print(\"학과:\", format(department,\"<20s\"))\n",
    "print(\"학번:\", format(student_id,\">10s\"))\n",
    "print(\"======================\")"
   ]
  },
  {
   "cell_type": "markdown",
   "metadata": {
    "id": "_P0DQNpcDy7b"
   },
   "source": [
    "### 문제 3. 불리언 표현식 분석하기\n",
    "\n",
    "다음 불리언 표현식의 결과를 예측하고, 그 이유를 설명하시오:\n",
    "\n",
    "(참고: 챕터 4 - 문자열과 불리언)\n",
    "\n",
    "**[답안 3]** 밑의 code block을 수정하고, 실행하십시오."
   ]
  },
  {
   "cell_type": "code",
   "execution_count": 20,
   "metadata": {
    "id": "EF0PRKnTDy7b"
   },
   "outputs": [
    {
     "name": "stdout",
     "output_type": "stream",
     "text": [
      "표현식 1 결과: True\n",
      "표현식 2 결과: False\n",
      "표현식 3 결과: True\n"
     ]
    }
   ],
   "source": [
    "# 표현식 1\n",
    "expression1 = (5 > 3) and (10 < 20)\n",
    "print(\"표현식 1 결과:\", expression1)\n",
    "# 결과 예측 및 이유 설명: True 일것이다.\n",
    "# (5 > 3) → True ,(10 < 20) → True, True and True → True\n",
    "\n",
    "# 표현식 2\n",
    "expression2 = not (5 == 5) or (7 != 7)\n",
    "print(\"표현식 2 결과:\", expression2)\n",
    "# 결과 예측 및 이유 설명:  False 일것이다.\n",
    "# not (5 == 5)는 not True → False , \t7 != 7도 False, False or False → False 이다\n",
    "\n",
    "# 표현식 3\n",
    "x = 10\n",
    "expression3 = (x > 5) and (x < 15) or (x == 20)\n",
    "print(\"표현식 3 결과:\", expression3)\n",
    "# 결과 예측 및 이유 설명: True일것이다.\n",
    "# (x > 5) → True, (x < 15) → True, (x == 20) → False, True and True or False → True"
   ]
  },
  {
   "cell_type": "markdown",
   "metadata": {
    "id": "IHZT9RC0Dy7c"
   },
   "source": [
    "#### 문제 4-1. 사칙연산 계산기 만들기\n",
    "\n",
    "- 사용자로부터 두 수와 연산자(+, -, *, /)를 입력받아 계산 결과를 출력하는 함수 `calculator`를 작성하시오.\n",
    "\n",
    "- 이 함수는 두 수와 연산자를 매개변수로 받고, 계산된 결과를 반환합니다.\n",
    "- 사용자가 입력한 값으로 함수를 호출하여 결과를 출력하는 프로그램을 완성하시오.\n",
    "\n",
    "(참고: 챕터 3 - 변수와 연산자, 챕터 5 - 선택 구조, 챕터 7 - 함수)\n",
    "\n",
    "**[답안 4-1]** 밑의 code block을 수정하고, 실행하십시오."
   ]
  },
  {
   "cell_type": "code",
   "execution_count": 25,
   "metadata": {
    "id": "QnqE1brNDy7d"
   },
   "outputs": [
    {
     "name": "stdin",
     "output_type": "stream",
     "text": [
      "첫 번째 숫자를 입력하세요:  3\n",
      "두 번째 숫자를 입력하세요:  5\n",
      "연산자를 입력하세요 (+, -, *, /):  +\n"
     ]
    },
    {
     "name": "stdout",
     "output_type": "stream",
     "text": [
      "결과: 8.0\n"
     ]
    }
   ],
   "source": [
    "def calculator(num1, num2, operator):\n",
    "    # 연산자에 따른 계산 수행\n",
    "    if operator == '+':\n",
    "        return  num1 + num2\n",
    "    elif operator == '-':\n",
    "        return  num1 - num2\n",
    "    elif operator == '*':\n",
    "        return  num1 * num2\n",
    "    elif operator == '/':\n",
    "        return  num1 / num2\n",
    "    else:\n",
    "        return \"유효하지 않은 연산자입니다.\"\n",
    "\n",
    "# 사용자로부터 두 수와 연산자 입력받기\n",
    "num1 = float(input(\"첫 번째 숫자를 입력하세요: \"))\n",
    "num2 = float(input(\"두 번째 숫자를 입력하세요: \"))\n",
    "operator = input(\"연산자를 입력하세요 (+, -, *, /): \")\n",
    "\n",
    "# 계산기 함수 호출\n",
    "result = calculator(num1, num2, operator)\n",
    "\n",
    "# 결과 출력\n",
    "print(\"결과:\", result)"
   ]
  },
  {
   "cell_type": "markdown",
   "metadata": {
    "id": "12CTmKspDy7d"
   },
   "source": [
    "#### 문제 4-2. 계산기에 지수승 및 나머지 계산 기능 추가하기\n",
    "\n",
    "- `calculator` 함수를 확장하여 더 많은 이항연산자(지수승 `**`, 나머지 `%`)를 지원하도록 수정하십시오.\n",
    "\n",
    "- 함수 내에 추가적인 연산자에 대한 조건문을 구현하고, 사용자로부터 해당 연산자를 입력받을 수 있도록 합니다.\n",
    "\n",
    "(참고: 챕터 3 - 변수와 연산자, 챕터 5 - 선택 구조, 챕터 7 - 함수)\n",
    "\n",
    "**[답안 4-1]** 밑의 code block을 수정하고, 실행하십시오."
   ]
  },
  {
   "cell_type": "code",
   "execution_count": 30,
   "metadata": {
    "id": "Wp8z8mGaDy7d"
   },
   "outputs": [
    {
     "name": "stdin",
     "output_type": "stream",
     "text": [
      "첫 번째 숫자를 입력하세요:  5\n",
      "두 번째 숫자를 입력하세요:  3\n",
      "연산자를 입력하세요 (+, -, *, /, **, %):  **\n"
     ]
    },
    {
     "name": "stdout",
     "output_type": "stream",
     "text": [
      "결과: 125.0\n"
     ]
    }
   ],
   "source": [
    "def calculator(num1, num2, operator):\n",
    "    # 연산자에 따른 계산 수행\n",
    "    if operator == '+':\n",
    "        return  num1 + num2\n",
    "    elif operator == '-':\n",
    "        return  num1 - num2\n",
    "    elif operator == '*':\n",
    "        return  num1 * num2\n",
    "    elif operator == '/':\n",
    "        return  num1 / num2\n",
    "    elif operator == '**':\n",
    "        return num1 ** num2\n",
    "    elif operator == '%':\n",
    "        return num1 % num2\n",
    "    else:\n",
    "        return \"유효하지 않은 연산자입니다.\"\n",
    "\n",
    "# 사용자로부터 두 수와 연산자 입력받기\n",
    "num1 = float(input(\"첫 번째 숫자를 입력하세요: \"))\n",
    "num2 = float(input(\"두 번째 숫자를 입력하세요: \"))\n",
    "operator = input(\"연산자를 입력하세요 (+, -, *, /, **, %): \")\n",
    "\n",
    "# 계산기 함수 호출\n",
    "result = calculator(num1, num2, operator)\n",
    "\n",
    "# 결과 출력\n",
    "print(\"결과:\", result)"
   ]
  },
  {
   "cell_type": "markdown",
   "metadata": {
    "id": "JHCVX0zFDy7e"
   },
   "source": [
    "### 문제 5. 날짜 계산기\n",
    "\n",
    "사용자로부터 연도와 월을 입력받아 해당 월의 일수를 계산하여 출력하는 프로그램을 작성하시오. 윤년 계산도 고려해야 합니다.\n",
    "\n",
    "윤년 규칙:\n",
    "\n",
    "- 4로 나누어 떨어지는 해는 윤년입니다.\n",
    "\n",
    "- 단, 100으로 나누어 떨어지는 해는 윤년이 아닙니다.\n",
    "\n",
    "- 단, 400으로 나누어 떨어지는 해는 윤년입니다.\n",
    "\n",
    "(참고: 챕터 5 - 선택 구조, 챕터 7 - 함수)\n",
    "\n",
    "**[답안 5]** 밑의 code block을 수정하고, 실행하십시오."
   ]
  },
  {
   "cell_type": "code",
   "execution_count": 32,
   "metadata": {
    "id": "OslRzgEqDy7e"
   },
   "outputs": [
    {
     "name": "stdin",
     "output_type": "stream",
     "text": [
      "연도를 입력하세요:  2019\n",
      "월을 입력하세요 (1-12):  2\n"
     ]
    },
    {
     "name": "stdout",
     "output_type": "stream",
     "text": [
      "2019년 2월의 일수는 28일입니다.\n"
     ]
    }
   ],
   "source": [
    "def is_leap_year(year):\n",
    "    \"\"\"윤년인지 판별하는 함수\"\"\"\n",
    "    return (year % 4 == 0 and year % 100 != 0) or (year % 400 == 0)\n",
    "\n",
    "def get_days_in_month(year, month):\n",
    "    \"\"\"특정 연도와 월의 일수를 반환하는 함수\"\"\"\n",
    "    # 31일: 1, 3, 5, 7, 8, 10, 12월\n",
    "    # 30일: 4, 6, 9, 11월\n",
    "    # 28일 또는 29일(윤년): 2월\n",
    "    if month in [1, 3, 5, 7, 8, 10, 12]:\n",
    "        days = 31\n",
    "    elif month in [4, 6, 9, 11]:\n",
    "        days = 30\n",
    "    elif month == 2:\n",
    "        if is_leap_year(year):\n",
    "            days = 29\n",
    "        else:\n",
    "            days = 28\n",
    "    return days\n",
    "\n",
    "# 사용자로부터 연도와 월 입력 받기\n",
    "year = int(input(\"연도를 입력하세요: \"))\n",
    "month = int(input(\"월을 입력하세요 (1-12): \"))\n",
    "\n",
    "# 입력 검증\n",
    "if month < 1 or month > 12:\n",
    "    print(\"월은 1부터 12 사이의 값이어야 합니다.\")\n",
    "else:\n",
    "    # 해당 월의 일수 계산 및 출력\n",
    "    days = get_days_in_month(year, month)\n",
    "    print(f\"{year}년 {month}월의 일수는 {days}일입니다.\")"
   ]
  },
  {
   "cell_type": "markdown",
   "metadata": {
    "id": "IoopvrIpDy7e"
   },
   "source": [
    "### 문제 6. 로또 번호 생성기\n",
    "\n",
    "1부터 45까지의 숫자 중에서 **중복되지 않는** **6개**의 숫자를 **무작위**로 선택하는 로또 번호 생성기를 만드시오.\n",
    "\n",
    "1부터 45까지의 숫자를 구하기 위해서 다음의 코드를 활용하세요.\n",
    "\n",
    "`num = random.randint(1, 45)`\n",
    "\n",
    "(참고: 챕터 6 - 루프 구조)\n",
    "\n",
    "**[답안 6]** 밑의 code block을 수정하고, 실행하십시오."
   ]
  },
  {
   "cell_type": "code",
   "execution_count": 35,
   "metadata": {
    "id": "Nm6pmXpSDy7f"
   },
   "outputs": [
    {
     "name": "stdout",
     "output_type": "stream",
     "text": [
      "생성된 로또 번호: [4, 14, 28, 31, 33, 38]\n"
     ]
    }
   ],
   "source": [
    "import random\n",
    "\n",
    "def generate_lotto_numbers():\n",
    "    \"\"\"로또 번호 6개를 생성하여 리스트로 반환하는 함수\"\"\"\n",
    "    # 여기에 로또 번호를 생성하는 코드를 작성하세요.\n",
    "    # 1-45 사이의 중복되지 않는 6개의 숫자를 선택하고 정렬하세요.\n",
    "    lotto_numbers = []\n",
    "    \n",
    "    while len(lotto_numbers) < 6:\n",
    "        num = random.randint(1, 45)\n",
    "        if num not in lotto_numbers:\n",
    "            lotto_numbers.append(num)\n",
    "    \n",
    "    lotto_numbers.sort() \n",
    "    return lotto_numbers\n",
    "\n",
    "# 로또 번호 생성 및 출력\n",
    "lotto_numbers = generate_lotto_numbers()\n",
    "print(\"생성된 로또 번호:\", lotto_numbers)"
   ]
  },
  {
   "cell_type": "markdown",
   "metadata": {
    "id": "Hl5pTvh1Dy7f"
   },
   "source": [
    "### 문제 7. 피보나치 수열 계산하기\n",
    "\n",
    "피보나치 수열은 다음과 같이 정의됩니다:\n",
    "\n",
    "- F(0) = 0\n",
    "\n",
    "- F(1) = 1\n",
    "\n",
    "- F(n) = F(n-1) + F(n-2) (n > 1)\n",
    "\n",
    "사용자로부터 정수 n을 입력받아 피보나치 수열의 n번째 항까지 출력하는 프로그램을 작성하시오.\n",
    "\n",
    "(참고: 챕터 6 - 루프 구조, 챕터 7 - 함수)\n",
    "\n",
    "**[답안 7]** 밑의 code block을 수정하고, 실행하십시오."
   ]
  },
  {
   "cell_type": "code",
   "execution_count": 36,
   "metadata": {
    "id": "PHTADPo2Dy7f"
   },
   "outputs": [
    {
     "name": "stdin",
     "output_type": "stream",
     "text": [
      "피보나치 수열의 몇 번째 항까지 출력할까요?  8\n"
     ]
    },
    {
     "name": "stdout",
     "output_type": "stream",
     "text": [
      "피보나치 수열의 처음 9개 항: [0, 1, 1, 2, 3, 5, 8, 13, 21]\n"
     ]
    }
   ],
   "source": [
    "def fibonacci(n):\n",
    "    \"\"\"피보나치 수열의 n번째 항까지 계산하여 리스트로 반환하는 함수\"\"\"\n",
    "    fib_sequence = []\n",
    "\n",
    "    for i in range(n + 1):\n",
    "        if i == 0:\n",
    "            fib_sequence.append(0)\n",
    "        elif i == 1:\n",
    "            fib_sequence.append(1)\n",
    "        else:\n",
    "            fib_sequence.append(fib_sequence[-1] + fib_sequence[-2])\n",
    "\n",
    "\n",
    "    return fib_sequence\n",
    "\n",
    "# 사용자로부터 정수 n 입력 받기\n",
    "n = int(input(\"피보나치 수열의 몇 번째 항까지 출력할까요? \"))\n",
    "\n",
    "# 피보나치 수열 계산 및 출력\n",
    "if n < 0:\n",
    "    print(\"음수는 입력할 수 없습니다.\")\n",
    "else:\n",
    "    result = fibonacci(n)\n",
    "    print(f\"피보나치 수열의 처음 {n+1}개 항: {result}\")"
   ]
  },
  {
   "cell_type": "markdown",
   "metadata": {
    "id": "N6rV8FVMDy7f"
   },
   "source": [
    "### 문제 8. 간단한 주사위 게임 만들기\n",
    "\n",
    "1부터 6까지의 숫자를 가진 주사위 2개를 던져 나온 숫자를 더하는 간단한 주사위 게임을 구현하시오. 게임 규칙은 다음과 같습니다:\n",
    "\n",
    "- 두 주사위의 합이 7이면 \"이겼습니다!\"를 출력합니다.\n",
    "\n",
    "- 두 주사위의 눈이 같다면 (예: 1,1) \"이겼습니다!\"를 출력합니다.\n",
    "\n",
    "- 두 주사위의 합이 6보다 작거나 같으면 \"졌습니다!\"를 출력합니다.\n",
    "\n",
    "- 그 외의 경우는 \"다시 굴리세요!\"를 출력합니다.\n",
    "\n",
    "(참고: 챕터 5 - 선택 구조, 챕터 7 - 함수)\n",
    "\n",
    "**[답안 8]** 밑의 code block을 수정하고, 실행하십시오."
   ]
  },
  {
   "cell_type": "code",
   "execution_count": 51,
   "metadata": {
    "id": "45-mUX0UDy7g"
   },
   "outputs": [
    {
     "name": "stdout",
     "output_type": "stream",
     "text": [
      "주사위1: 6, 주사위2: 6, 합계: 12\n",
      "이겼습니다!\n"
     ]
    }
   ],
   "source": [
    "import random\n",
    "\n",
    "def roll_dice():\n",
    "    \"\"\"주사위 2개를 던져 각 주사위의 값과 합을 반환하는 함수\"\"\"\n",
    "    # 여기에 주사위를 던지는 코드를 작성하세요.\n",
    "    dice1 = random.randint(1, 6)\n",
    "    dice2 = random.randint(1, 6)\n",
    "    total = dice1 + dice2\n",
    "    return dice1, dice2, total\n",
    "\n",
    "# 주사위 게임 실행\n",
    "dice1, dice2, total = roll_dice()\n",
    "\n",
    "# 결과 출력\n",
    "print(f\"주사위1: {dice1}, 주사위2: {dice2}, 합계: {total}\")\n",
    "if total == 7 or dice1 == dice2:\n",
    "    print(\"이겼습니다!\")\n",
    "elif total <= 6:\n",
    "    print(\"졌습니다!\")\n",
    "else:\n",
    "    print(\"다시 굴리세요!\")\n",
    "    \n",
    "# 게임 결과 판정\n",
    "# 여기에 게임 결과를 판정하는 코드를 작성하세요."
   ]
  },
  {
   "cell_type": "code",
   "execution_count": null,
   "metadata": {},
   "outputs": [],
   "source": []
  }
 ],
 "metadata": {
  "colab": {
   "provenance": []
  },
  "kernelspec": {
   "display_name": "Python 3 (ipykernel)",
   "language": "python",
   "name": "python3"
  },
  "language_info": {
   "codemirror_mode": {
    "name": "ipython",
    "version": 3
   },
   "file_extension": ".py",
   "mimetype": "text/x-python",
   "name": "python",
   "nbconvert_exporter": "python",
   "pygments_lexer": "ipython3",
   "version": "3.9.6"
  },
  "vscode": {
   "interpreter": {
    "hash": "6d0df927005a357f5547f9c09b2ee5785eff1bc216c02f62dbd39c7e1809eebb"
   }
  }
 },
 "nbformat": 4,
 "nbformat_minor": 4
}
